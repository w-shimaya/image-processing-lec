{
 "cells": [
  {
   "cell_type": "markdown",
   "metadata": {},
   "source": [
    "# Noise and Filters\n",
    "## Noise in Images\n",
    "* random noise\n",
    "* periodic noise"
   ]
  },
  {
   "cell_type": "markdown",
   "metadata": {},
   "source": [
    "### Gaussian Noise\n",
    "white noise generally used when no prior knowledge about noise is available\n",
    "$$\n",
    "N(p; 0, \\sigma_n^2) = \\frac{1}{\\sqrt{2 \\pi \\sigma_n^2}} \\exp \\left( - \\frac{p^2}{2 \\sigma_n^2} \\right)\n",
    "$$"
   ]
  },
  {
   "cell_type": "code",
   "execution_count": 1,
   "metadata": {},
   "outputs": [
    {
     "data": {
      "text/plain": [
       "<matplotlib.image.AxesImage at 0x282b22f30d0>"
      ]
     },
     "execution_count": 1,
     "metadata": {},
     "output_type": "execute_result"
    },
    {
     "data": {
      "image/png": "[encoded data removed]",
      "text/plain": [
       "<Figure size 432x288 with 1 Axes>"
      ]
     },
     "metadata": {
      "needs_background": "light"
     },
     "output_type": "display_data"
    }
   ],
   "source": [
    "import numpy as np\n",
    "import matplotlib.pyplot as plt\n",
    "\n",
    "orig_img = np.zeros((32, 32, 1))\n",
    "for i in range(8):\n",
    "    for j in range(8):\n",
    "        orig_img[i*4:(i+1)*4, j*4:(j+1)*4] = abs(i + j) / 16.\n",
    "plt.imshow(orig_img, cmap=\"Greys\")"
   ]
  },
  {
   "cell_type": "code",
   "execution_count": 2,
   "metadata": {},
   "outputs": [
    {
     "data": {
      "text/plain": [
       "<matplotlib.image.AxesImage at 0x282b23dbfa0>"
      ]
     },
     "execution_count": 2,
     "metadata": {},
     "output_type": "execute_result"
    },
    {
     "data": {
      "image/png": "[encoded data removed]",
      "text/plain": [
       "<Figure size 432x288 with 1 Axes>"
      ]
     },
     "metadata": {
      "needs_background": "light"
     },
     "output_type": "display_data"
    }
   ],
   "source": [
    "# add gaussian noise with s.d. of 0.05\n",
    "gaussian_noise = np.random.normal(size=orig_img.shape) * 0.01\n",
    "grid_gaussian = np.clip(orig_img + gaussian_noise, 0., 1.)\n",
    "plt.imshow(grid_gaussian, cmap=\"Greys\")"
   ]
  },
  {
   "cell_type": "markdown",
   "metadata": {},
   "source": [
    "### Inpulsive Noise\n",
    "Noise typically caused by malfunctioning element, signal transfer, A/D conversion, etc.\n",
    "\n",
    "e.g., salt-and-pepper noise\n",
    "$$\n",
    "I_{obs} (i, j) =\n",
    "  \\begin{cases}\n",
    "    I(i, j) & \\alpha < l \\\\\n",
    "    (1 - \\beta) v_{\\mathrm{min}} + \\beta v_{\\mathrm{max}} & \\alpha \\geq l\n",
    "  \\end{cases} \\\\\n",
    "\\mathrm{where} \\quad \\alpha, \\beta \\sim U(0, 1)\n",
    "$$"
   ]
  },
  {
   "cell_type": "code",
   "execution_count": 3,
   "metadata": {},
   "outputs": [
    {
     "data": {
      "text/plain": [
       "<matplotlib.image.AxesImage at 0x282b2441d00>"
      ]
     },
     "execution_count": 3,
     "metadata": {},
     "output_type": "execute_result"
    },
    {
     "data": {
      "image/png": "[encoded data removed]",
      "text/plain": [
       "<Figure size 432x288 with 1 Axes>"
      ]
     },
     "metadata": {
      "needs_background": "light"
     },
     "output_type": "display_data"
    }
   ],
   "source": [
    "# add impulsive noise\n",
    "impulsive_noise = np.where(np.random.uniform(size=(32, 32, 1)) < 0.95, orig_img, np.random.uniform(size=(32, 32, 1)))\n",
    "grid_impulsive = np.clip(impulsive_noise, 0., 1.)\n",
    "plt.imshow(grid_impulsive, cmap=\"Greys\")"
   ]
  },
  {
   "cell_type": "markdown",
   "metadata": {},
   "source": [
    "## Linear Filter\n",
    "convolution of a image $I$ and a linear filter $A$\n",
    "$$\n",
    "I_A(i, j) = I * A = \\sum_{k=-\\frac{m}{2}}^{\\frac{m}{2}} \\sum_{l=-\\frac{m}{2}}^{\\frac{m}{2}} A(k, l) I(i - k, j - l)\n",
    "$$"
   ]
  },
  {
   "cell_type": "code",
   "execution_count": 4,
   "metadata": {},
   "outputs": [],
   "source": [
    "def conv2d(image, kernel):\n",
    "    # kernel size should be an odd number\n",
    "    assert kernel.shape[0] % 2 == 1 and kernel.shape[1] % 2 == 1\n",
    "    # here, assume that the kernel is a square\n",
    "    assert kernel.shape[0] == kernel.shape[1]\n",
    "    \n",
    "    m = kernel.shape[0]\n",
    "    mdiv2 = m // 2\n",
    "    h, w, c = image.shape\n",
    "    \n",
    "    # extend the image to apply a kernel to the edge of it\n",
    "    extended_shape = [image.shape[0] + m - 1, image.shape[1] + m - 1, image.shape[2]]\n",
    "    extended = np.empty(extended_shape)\n",
    "    \n",
    "    # center\n",
    "    extended[mdiv2:-mdiv2, mdiv2:-mdiv2, :] = image\n",
    "    for i in range(mdiv2):\n",
    "        # edges\n",
    "        extended[       i, mdiv2:mdiv2 + w, :] = image[ 0, :, :]\n",
    "        extended[-(i + 1), mdiv2:mdiv2 + w, :] = image[-1, :, :]\n",
    "        extended[mdiv2:mdiv2 + h,        i, :] = image[:,  0, :]\n",
    "        extended[mdiv2:mdiv2 + h, -(i + 1), :] = image[:, -1, :]\n",
    "    # corners\n",
    "    extended[ :mdiv2,  :mdiv2, :] = image[ 0,  0, :]\n",
    "    extended[ :mdiv2, -mdiv2:, :] = image[ 0, -1, :]\n",
    "    extended[-mdiv2:,  :mdiv2, :] = image[-1,  0, :]\n",
    "    extended[-mdiv2:, -mdiv2:, :] = image[-1, -1, :]\n",
    "    \n",
    "    # convolution\n",
    "    # Most naive implementation: time complexity of O(HWCM^2)\n",
    "    result = np.zeros_like(image)\n",
    "    for i in range(h):\n",
    "        for j in range(w):\n",
    "            for k in range(-mdiv2, mdiv2 + 1):\n",
    "                for l in range(-mdiv2, mdiv2 + 1):\n",
    "                    for ch in range(c):\n",
    "                        result[i, j, ch] += extended[i - k + mdiv2, j - l + mdiv2, ch] * kernel[mdiv2 + k, mdiv2 + l]\n",
    "    return result\n",
    "        "
   ]
  },
  {
   "cell_type": "markdown",
   "metadata": {},
   "source": [
    "### Moving Mean Filter\n",
    "The simplest linearfilter. Behave as a low-pass filter.\n"
   ]
  },
  {
   "cell_type": "code",
   "execution_count": 5,
   "metadata": {},
   "outputs": [
    {
     "data": {
      "text/plain": [
       "<matplotlib.image.AxesImage at 0x282b24a6cd0>"
      ]
     },
     "execution_count": 5,
     "metadata": {},
     "output_type": "execute_result"
    },
    {
     "data": {
      "image/png": "[encoded data removed]",
      "text/plain": [
       "<Figure size 432x288 with 1 Axes>"
      ]
     },
     "metadata": {
      "needs_background": "light"
     },
     "output_type": "display_data"
    }
   ],
   "source": [
    "# apply moving mean filter to the image including gaussian noise\n",
    "mmf_kernel = np.ones((3, 3), dtype=np.float32) / 9.\n",
    "filtered = conv2d(grid_gaussian, mmf_kernel)\n",
    "plt.imshow(filtered, cmap=\"Greys\")"
   ]
  },
  {
   "cell_type": "markdown",
   "metadata": {},
   "source": [
    "MMF reduces the noise but blurs the edges."
   ]
  },
  {
   "cell_type": "markdown",
   "metadata": {},
   "source": [
    "### Gaussian Filter\n",
    "||Kernel||\n",
    "|:----:|:----:|:----:|\n",
    "| 1/16 | 2/16 | 1/16 |\n",
    "| 2/16 | 4/16 | 2/16 |\n",
    "| 1/16 | 2/16 | 1/16 |"
   ]
  }
 ],
 "metadata": {
  "kernelspec": {
   "display_name": "Python 3",
   "language": "python",
   "name": "python3"
  },
  "language_info": {
   "codemirror_mode": {
    "name": "ipython",
    "version": 3
   },
   "file_extension": ".py",
   "mimetype": "text/x-python",
   "name": "python",
   "nbconvert_exporter": "python",
   "pygments_lexer": "ipython3",
   "version": "3.8.1"
  }
 },
 "nbformat": 4,
 "nbformat_minor": 4
}
